{
  "nbformat": 4,
  "nbformat_minor": 0,
  "metadata": {
    "colab": {
      "provenance": []
    },
    "kernelspec": {
      "name": "python3",
      "display_name": "Python 3"
    },
    "language_info": {
      "name": "python"
    }
  },
  "cells": [
    {
      "cell_type": "markdown",
      "source": [],
      "metadata": {
        "id": "Ko6mbY6giIBw"
      }
    },
    {
      "cell_type": "markdown",
      "source": [
        "OBJETIVO GENERAL: Determinar a través de diferentes análisis de cuatro tiendas cual es la que posee menor rentabilidad"
      ],
      "metadata": {
        "id": "QgT7JopYiL0G"
      }
    },
    {
      "cell_type": "markdown",
      "source": [
        "### Importación de datos\n",
        "\n"
      ],
      "metadata": {
        "id": "RhEdWd9YUR6H"
      }
    },
    {
      "cell_type": "code",
      "execution_count": 1,
      "metadata": {
        "colab": {
          "base_uri": "https://localhost:8080/",
          "height": 310
        },
        "id": "T3EvaeQ_INIL",
        "outputId": "07896a9d-9044-4c88-edeb-c46c958115dd"
      },
      "outputs": [
        {
          "output_type": "execute_result",
          "data": {
            "text/plain": [
              "            Producto Categoría del Producto    Precio  Costo de envío  \\\n",
              "0  Asistente virtual           Electrónicos  164300.0          6900.0   \n",
              "1    Mesa de comedor                Muebles  192300.0          8400.0   \n",
              "2      Juego de mesa               Juguetes  209600.0         15900.0   \n",
              "3         Microondas      Electrodomésticos  757500.0         41000.0   \n",
              "4   Silla de oficina                Muebles  335200.0         20200.0   \n",
              "\n",
              "  Fecha de Compra         Vendedor Lugar de Compra  Calificación  \\\n",
              "0      16/01/2021      Pedro Gomez          Bogotá             4   \n",
              "1      18/05/2022  Beatriz Morales        Medellín             1   \n",
              "2      15/03/2021   Juan Fernandez       Cartagena             1   \n",
              "3      03/05/2022   Juan Fernandez            Cali             4   \n",
              "4      07/11/2020    Maria Alfonso        Medellín             5   \n",
              "\n",
              "       Método de pago  Cantidad de cuotas       lat       lon  \n",
              "0  Tarjeta de crédito                   8   4.60971 -74.08175  \n",
              "1  Tarjeta de crédito                   4   6.25184 -75.56359  \n",
              "2  Tarjeta de crédito                   1  10.39972 -75.51444  \n",
              "3               Nequi                   1   3.43722 -76.52250  \n",
              "4               Nequi                   1   6.25184 -75.56359  "
            ],
            "text/html": [
              "\n",
              "  <div id=\"df-f7a2cb48-c882-4513-8cf6-8e62c639df4e\" class=\"colab-df-container\">\n",
              "    <div>\n",
              "<style scoped>\n",
              "    .dataframe tbody tr th:only-of-type {\n",
              "        vertical-align: middle;\n",
              "    }\n",
              "\n",
              "    .dataframe tbody tr th {\n",
              "        vertical-align: top;\n",
              "    }\n",
              "\n",
              "    .dataframe thead th {\n",
              "        text-align: right;\n",
              "    }\n",
              "</style>\n",
              "<table border=\"1\" class=\"dataframe\">\n",
              "  <thead>\n",
              "    <tr style=\"text-align: right;\">\n",
              "      <th></th>\n",
              "      <th>Producto</th>\n",
              "      <th>Categoría del Producto</th>\n",
              "      <th>Precio</th>\n",
              "      <th>Costo de envío</th>\n",
              "      <th>Fecha de Compra</th>\n",
              "      <th>Vendedor</th>\n",
              "      <th>Lugar de Compra</th>\n",
              "      <th>Calificación</th>\n",
              "      <th>Método de pago</th>\n",
              "      <th>Cantidad de cuotas</th>\n",
              "      <th>lat</th>\n",
              "      <th>lon</th>\n",
              "    </tr>\n",
              "  </thead>\n",
              "  <tbody>\n",
              "    <tr>\n",
              "      <th>0</th>\n",
              "      <td>Asistente virtual</td>\n",
              "      <td>Electrónicos</td>\n",
              "      <td>164300.0</td>\n",
              "      <td>6900.0</td>\n",
              "      <td>16/01/2021</td>\n",
              "      <td>Pedro Gomez</td>\n",
              "      <td>Bogotá</td>\n",
              "      <td>4</td>\n",
              "      <td>Tarjeta de crédito</td>\n",
              "      <td>8</td>\n",
              "      <td>4.60971</td>\n",
              "      <td>-74.08175</td>\n",
              "    </tr>\n",
              "    <tr>\n",
              "      <th>1</th>\n",
              "      <td>Mesa de comedor</td>\n",
              "      <td>Muebles</td>\n",
              "      <td>192300.0</td>\n",
              "      <td>8400.0</td>\n",
              "      <td>18/05/2022</td>\n",
              "      <td>Beatriz Morales</td>\n",
              "      <td>Medellín</td>\n",
              "      <td>1</td>\n",
              "      <td>Tarjeta de crédito</td>\n",
              "      <td>4</td>\n",
              "      <td>6.25184</td>\n",
              "      <td>-75.56359</td>\n",
              "    </tr>\n",
              "    <tr>\n",
              "      <th>2</th>\n",
              "      <td>Juego de mesa</td>\n",
              "      <td>Juguetes</td>\n",
              "      <td>209600.0</td>\n",
              "      <td>15900.0</td>\n",
              "      <td>15/03/2021</td>\n",
              "      <td>Juan Fernandez</td>\n",
              "      <td>Cartagena</td>\n",
              "      <td>1</td>\n",
              "      <td>Tarjeta de crédito</td>\n",
              "      <td>1</td>\n",
              "      <td>10.39972</td>\n",
              "      <td>-75.51444</td>\n",
              "    </tr>\n",
              "    <tr>\n",
              "      <th>3</th>\n",
              "      <td>Microondas</td>\n",
              "      <td>Electrodomésticos</td>\n",
              "      <td>757500.0</td>\n",
              "      <td>41000.0</td>\n",
              "      <td>03/05/2022</td>\n",
              "      <td>Juan Fernandez</td>\n",
              "      <td>Cali</td>\n",
              "      <td>4</td>\n",
              "      <td>Nequi</td>\n",
              "      <td>1</td>\n",
              "      <td>3.43722</td>\n",
              "      <td>-76.52250</td>\n",
              "    </tr>\n",
              "    <tr>\n",
              "      <th>4</th>\n",
              "      <td>Silla de oficina</td>\n",
              "      <td>Muebles</td>\n",
              "      <td>335200.0</td>\n",
              "      <td>20200.0</td>\n",
              "      <td>07/11/2020</td>\n",
              "      <td>Maria Alfonso</td>\n",
              "      <td>Medellín</td>\n",
              "      <td>5</td>\n",
              "      <td>Nequi</td>\n",
              "      <td>1</td>\n",
              "      <td>6.25184</td>\n",
              "      <td>-75.56359</td>\n",
              "    </tr>\n",
              "  </tbody>\n",
              "</table>\n",
              "</div>\n",
              "    <div class=\"colab-df-buttons\">\n",
              "\n",
              "  <div class=\"colab-df-container\">\n",
              "    <button class=\"colab-df-convert\" onclick=\"convertToInteractive('df-f7a2cb48-c882-4513-8cf6-8e62c639df4e')\"\n",
              "            title=\"Convert this dataframe to an interactive table.\"\n",
              "            style=\"display:none;\">\n",
              "\n",
              "  <svg xmlns=\"http://www.w3.org/2000/svg\" height=\"24px\" viewBox=\"0 -960 960 960\">\n",
              "    <path d=\"M120-120v-720h720v720H120Zm60-500h600v-160H180v160Zm220 220h160v-160H400v160Zm0 220h160v-160H400v160ZM180-400h160v-160H180v160Zm440 0h160v-160H620v160ZM180-180h160v-160H180v160Zm440 0h160v-160H620v160Z\"/>\n",
              "  </svg>\n",
              "    </button>\n",
              "\n",
              "  <style>\n",
              "    .colab-df-container {\n",
              "      display:flex;\n",
              "      gap: 12px;\n",
              "    }\n",
              "\n",
              "    .colab-df-convert {\n",
              "      background-color: #E8F0FE;\n",
              "      border: none;\n",
              "      border-radius: 50%;\n",
              "      cursor: pointer;\n",
              "      display: none;\n",
              "      fill: #1967D2;\n",
              "      height: 32px;\n",
              "      padding: 0 0 0 0;\n",
              "      width: 32px;\n",
              "    }\n",
              "\n",
              "    .colab-df-convert:hover {\n",
              "      background-color: #E2EBFA;\n",
              "      box-shadow: 0px 1px 2px rgba(60, 64, 67, 0.3), 0px 1px 3px 1px rgba(60, 64, 67, 0.15);\n",
              "      fill: #174EA6;\n",
              "    }\n",
              "\n",
              "    .colab-df-buttons div {\n",
              "      margin-bottom: 4px;\n",
              "    }\n",
              "\n",
              "    [theme=dark] .colab-df-convert {\n",
              "      background-color: #3B4455;\n",
              "      fill: #D2E3FC;\n",
              "    }\n",
              "\n",
              "    [theme=dark] .colab-df-convert:hover {\n",
              "      background-color: #434B5C;\n",
              "      box-shadow: 0px 1px 3px 1px rgba(0, 0, 0, 0.15);\n",
              "      filter: drop-shadow(0px 1px 2px rgba(0, 0, 0, 0.3));\n",
              "      fill: #FFFFFF;\n",
              "    }\n",
              "  </style>\n",
              "\n",
              "    <script>\n",
              "      const buttonEl =\n",
              "        document.querySelector('#df-f7a2cb48-c882-4513-8cf6-8e62c639df4e button.colab-df-convert');\n",
              "      buttonEl.style.display =\n",
              "        google.colab.kernel.accessAllowed ? 'block' : 'none';\n",
              "\n",
              "      async function convertToInteractive(key) {\n",
              "        const element = document.querySelector('#df-f7a2cb48-c882-4513-8cf6-8e62c639df4e');\n",
              "        const dataTable =\n",
              "          await google.colab.kernel.invokeFunction('convertToInteractive',\n",
              "                                                    [key], {});\n",
              "        if (!dataTable) return;\n",
              "\n",
              "        const docLinkHtml = 'Like what you see? Visit the ' +\n",
              "          '<a target=\"_blank\" href=https://colab.research.google.com/notebooks/data_table.ipynb>data table notebook</a>'\n",
              "          + ' to learn more about interactive tables.';\n",
              "        element.innerHTML = '';\n",
              "        dataTable['output_type'] = 'display_data';\n",
              "        await google.colab.output.renderOutput(dataTable, element);\n",
              "        const docLink = document.createElement('div');\n",
              "        docLink.innerHTML = docLinkHtml;\n",
              "        element.appendChild(docLink);\n",
              "      }\n",
              "    </script>\n",
              "  </div>\n",
              "\n",
              "\n",
              "<div id=\"df-b9471d53-6991-4f3d-8692-362c0920c565\">\n",
              "  <button class=\"colab-df-quickchart\" onclick=\"quickchart('df-b9471d53-6991-4f3d-8692-362c0920c565')\"\n",
              "            title=\"Suggest charts\"\n",
              "            style=\"display:none;\">\n",
              "\n",
              "<svg xmlns=\"http://www.w3.org/2000/svg\" height=\"24px\"viewBox=\"0 0 24 24\"\n",
              "     width=\"24px\">\n",
              "    <g>\n",
              "        <path d=\"M19 3H5c-1.1 0-2 .9-2 2v14c0 1.1.9 2 2 2h14c1.1 0 2-.9 2-2V5c0-1.1-.9-2-2-2zM9 17H7v-7h2v7zm4 0h-2V7h2v10zm4 0h-2v-4h2v4z\"/>\n",
              "    </g>\n",
              "</svg>\n",
              "  </button>\n",
              "\n",
              "<style>\n",
              "  .colab-df-quickchart {\n",
              "      --bg-color: #E8F0FE;\n",
              "      --fill-color: #1967D2;\n",
              "      --hover-bg-color: #E2EBFA;\n",
              "      --hover-fill-color: #174EA6;\n",
              "      --disabled-fill-color: #AAA;\n",
              "      --disabled-bg-color: #DDD;\n",
              "  }\n",
              "\n",
              "  [theme=dark] .colab-df-quickchart {\n",
              "      --bg-color: #3B4455;\n",
              "      --fill-color: #D2E3FC;\n",
              "      --hover-bg-color: #434B5C;\n",
              "      --hover-fill-color: #FFFFFF;\n",
              "      --disabled-bg-color: #3B4455;\n",
              "      --disabled-fill-color: #666;\n",
              "  }\n",
              "\n",
              "  .colab-df-quickchart {\n",
              "    background-color: var(--bg-color);\n",
              "    border: none;\n",
              "    border-radius: 50%;\n",
              "    cursor: pointer;\n",
              "    display: none;\n",
              "    fill: var(--fill-color);\n",
              "    height: 32px;\n",
              "    padding: 0;\n",
              "    width: 32px;\n",
              "  }\n",
              "\n",
              "  .colab-df-quickchart:hover {\n",
              "    background-color: var(--hover-bg-color);\n",
              "    box-shadow: 0 1px 2px rgba(60, 64, 67, 0.3), 0 1px 3px 1px rgba(60, 64, 67, 0.15);\n",
              "    fill: var(--button-hover-fill-color);\n",
              "  }\n",
              "\n",
              "  .colab-df-quickchart-complete:disabled,\n",
              "  .colab-df-quickchart-complete:disabled:hover {\n",
              "    background-color: var(--disabled-bg-color);\n",
              "    fill: var(--disabled-fill-color);\n",
              "    box-shadow: none;\n",
              "  }\n",
              "\n",
              "  .colab-df-spinner {\n",
              "    border: 2px solid var(--fill-color);\n",
              "    border-color: transparent;\n",
              "    border-bottom-color: var(--fill-color);\n",
              "    animation:\n",
              "      spin 1s steps(1) infinite;\n",
              "  }\n",
              "\n",
              "  @keyframes spin {\n",
              "    0% {\n",
              "      border-color: transparent;\n",
              "      border-bottom-color: var(--fill-color);\n",
              "      border-left-color: var(--fill-color);\n",
              "    }\n",
              "    20% {\n",
              "      border-color: transparent;\n",
              "      border-left-color: var(--fill-color);\n",
              "      border-top-color: var(--fill-color);\n",
              "    }\n",
              "    30% {\n",
              "      border-color: transparent;\n",
              "      border-left-color: var(--fill-color);\n",
              "      border-top-color: var(--fill-color);\n",
              "      border-right-color: var(--fill-color);\n",
              "    }\n",
              "    40% {\n",
              "      border-color: transparent;\n",
              "      border-right-color: var(--fill-color);\n",
              "      border-top-color: var(--fill-color);\n",
              "    }\n",
              "    60% {\n",
              "      border-color: transparent;\n",
              "      border-right-color: var(--fill-color);\n",
              "    }\n",
              "    80% {\n",
              "      border-color: transparent;\n",
              "      border-right-color: var(--fill-color);\n",
              "      border-bottom-color: var(--fill-color);\n",
              "    }\n",
              "    90% {\n",
              "      border-color: transparent;\n",
              "      border-bottom-color: var(--fill-color);\n",
              "    }\n",
              "  }\n",
              "</style>\n",
              "\n",
              "  <script>\n",
              "    async function quickchart(key) {\n",
              "      const quickchartButtonEl =\n",
              "        document.querySelector('#' + key + ' button');\n",
              "      quickchartButtonEl.disabled = true;  // To prevent multiple clicks.\n",
              "      quickchartButtonEl.classList.add('colab-df-spinner');\n",
              "      try {\n",
              "        const charts = await google.colab.kernel.invokeFunction(\n",
              "            'suggestCharts', [key], {});\n",
              "      } catch (error) {\n",
              "        console.error('Error during call to suggestCharts:', error);\n",
              "      }\n",
              "      quickchartButtonEl.classList.remove('colab-df-spinner');\n",
              "      quickchartButtonEl.classList.add('colab-df-quickchart-complete');\n",
              "    }\n",
              "    (() => {\n",
              "      let quickchartButtonEl =\n",
              "        document.querySelector('#df-b9471d53-6991-4f3d-8692-362c0920c565 button');\n",
              "      quickchartButtonEl.style.display =\n",
              "        google.colab.kernel.accessAllowed ? 'block' : 'none';\n",
              "    })();\n",
              "  </script>\n",
              "</div>\n",
              "\n",
              "    </div>\n",
              "  </div>\n"
            ],
            "application/vnd.google.colaboratory.intrinsic+json": {
              "type": "dataframe",
              "variable_name": "tienda",
              "summary": "{\n  \"name\": \"tienda\",\n  \"rows\": 2359,\n  \"fields\": [\n    {\n      \"column\": \"Producto\",\n      \"properties\": {\n        \"dtype\": \"category\",\n        \"num_unique_values\": 51,\n        \"samples\": [\n          \"Guitarra ac\\u00fastica\",\n          \"Bal\\u00f3n de baloncesto\",\n          \"Smartwatch\"\n        ],\n        \"semantic_type\": \"\",\n        \"description\": \"\"\n      }\n    },\n    {\n      \"column\": \"Categor\\u00eda del Producto\",\n      \"properties\": {\n        \"dtype\": \"category\",\n        \"num_unique_values\": 8,\n        \"samples\": [\n          \"Muebles\",\n          \"Deportes y diversi\\u00f3n\",\n          \"Electr\\u00f3nicos\"\n        ],\n        \"semantic_type\": \"\",\n        \"description\": \"\"\n      }\n    },\n    {\n      \"column\": \"Precio\",\n      \"properties\": {\n        \"dtype\": \"number\",\n        \"std\": 614686.7653873172,\n        \"min\": 7600.0,\n        \"max\": 2977000.0,\n        \"num_unique_values\": 1937,\n        \"samples\": [\n          2499400.0,\n          14800.0,\n          80500.0\n        ],\n        \"semantic_type\": \"\",\n        \"description\": \"\"\n      }\n    },\n    {\n      \"column\": \"Costo de env\\u00edo\",\n      \"properties\": {\n        \"dtype\": \"number\",\n        \"std\": 32860.0017825605,\n        \"min\": 0.0,\n        \"max\": 160800.0,\n        \"num_unique_values\": 753,\n        \"samples\": [\n          117800.0,\n          54700.0,\n          45600.0\n        ],\n        \"semantic_type\": \"\",\n        \"description\": \"\"\n      }\n    },\n    {\n      \"column\": \"Fecha de Compra\",\n      \"properties\": {\n        \"dtype\": \"object\",\n        \"num_unique_values\": 1018,\n        \"samples\": [\n          \"15/09/2022\",\n          \"03/06/2020\",\n          \"06/11/2021\"\n        ],\n        \"semantic_type\": \"\",\n        \"description\": \"\"\n      }\n    },\n    {\n      \"column\": \"Vendedor\",\n      \"properties\": {\n        \"dtype\": \"category\",\n        \"num_unique_values\": 14,\n        \"samples\": [\n          \"Juliana Costa\",\n          \"Mariana Herrera\",\n          \"Pedro Gomez\"\n        ],\n        \"semantic_type\": \"\",\n        \"description\": \"\"\n      }\n    },\n    {\n      \"column\": \"Lugar de Compra\",\n      \"properties\": {\n        \"dtype\": \"category\",\n        \"num_unique_values\": 19,\n        \"samples\": [\n          \"Bogot\\u00e1\",\n          \"Pereira\",\n          \"Neiva\"\n        ],\n        \"semantic_type\": \"\",\n        \"description\": \"\"\n      }\n    },\n    {\n      \"column\": \"Calificaci\\u00f3n\",\n      \"properties\": {\n        \"dtype\": \"number\",\n        \"std\": 1,\n        \"min\": 1,\n        \"max\": 5,\n        \"num_unique_values\": 5,\n        \"samples\": [\n          1,\n          2,\n          5\n        ],\n        \"semantic_type\": \"\",\n        \"description\": \"\"\n      }\n    },\n    {\n      \"column\": \"M\\u00e9todo de pago\",\n      \"properties\": {\n        \"dtype\": \"category\",\n        \"num_unique_values\": 4,\n        \"samples\": [\n          \"Nequi\",\n          \"Tarjeta de d\\u00e9bito\",\n          \"Tarjeta de cr\\u00e9dito\"\n        ],\n        \"semantic_type\": \"\",\n        \"description\": \"\"\n      }\n    },\n    {\n      \"column\": \"Cantidad de cuotas\",\n      \"properties\": {\n        \"dtype\": \"number\",\n        \"std\": 2,\n        \"min\": 1,\n        \"max\": 24,\n        \"num_unique_values\": 15,\n        \"samples\": [\n          7,\n          14,\n          8\n        ],\n        \"semantic_type\": \"\",\n        \"description\": \"\"\n      }\n    },\n    {\n      \"column\": \"lat\",\n      \"properties\": {\n        \"dtype\": \"number\",\n        \"std\": 2.2874452492678627,\n        \"min\": -4.21528,\n        \"max\": 11.54444,\n        \"num_unique_values\": 19,\n        \"samples\": [\n          4.60971,\n          4.81333,\n          2.9273\n        ],\n        \"semantic_type\": \"\",\n        \"description\": \"\"\n      }\n    },\n    {\n      \"column\": \"lon\",\n      \"properties\": {\n        \"dtype\": \"number\",\n        \"std\": 1.2178272727088486,\n        \"min\": -77.28111,\n        \"max\": -67.9239,\n        \"num_unique_values\": 19,\n        \"samples\": [\n          -74.08175,\n          -75.69611,\n          -75.28189\n        ],\n        \"semantic_type\": \"\",\n        \"description\": \"\"\n      }\n    }\n  ]\n}"
            }
          },
          "metadata": {},
          "execution_count": 1
        }
      ],
      "source": [
        "import pandas as pd\n",
        "\n",
        "url  = \"https://raw.githubusercontent.com/alura-es-cursos/challenge1-data-science-latam/refs/heads/main/base-de-datos-challenge1-latam/tienda_1%20.csv\"\n",
        "url2 = \"https://raw.githubusercontent.com/alura-es-cursos/challenge1-data-science-latam/refs/heads/main/base-de-datos-challenge1-latam/tienda_2.csv\"\n",
        "url3 = \"https://raw.githubusercontent.com/alura-es-cursos/challenge1-data-science-latam/refs/heads/main/base-de-datos-challenge1-latam/tienda_3.csv\"\n",
        "url4 = \"https://raw.githubusercontent.com/alura-es-cursos/challenge1-data-science-latam/refs/heads/main/base-de-datos-challenge1-latam/tienda_4.csv\"\n",
        "\n",
        "tienda = pd.read_csv(url)\n",
        "tienda2 = pd.read_csv(url2)\n",
        "tienda3 = pd.read_csv(url3)\n",
        "tienda4 = pd.read_csv(url4)\n",
        "\n",
        "tienda.head(5)"
      ]
    },
    {
      "cell_type": "code",
      "source": [
        "tienda[\"Sucursal\"] =\"Sucursal 1\"\n",
        "tienda2[\"Sucursal\"] =\"Sucursal 2\"\n",
        "tienda3[\"Sucursal\"] =\"Sucursal 3\"\n",
        "tienda4[\"Sucursal\"] =\"Sucursal 4\"\n"
      ],
      "metadata": {
        "id": "RIpxmE1mH5B2"
      },
      "execution_count": 2,
      "outputs": []
    },
    {
      "cell_type": "code",
      "source": [
        "df_total = pd.concat([tienda, tienda2, tienda3, tienda4], ignore_index=True)\n",
        "df_total.head()"
      ],
      "metadata": {
        "colab": {
          "base_uri": "https://localhost:8080/",
          "height": 310
        },
        "id": "tONjWRaibVuW",
        "outputId": "2d54b9ff-ddc1-46ac-a4a5-d68be6e9d7f7"
      },
      "execution_count": 4,
      "outputs": [
        {
          "output_type": "execute_result",
          "data": {
            "text/plain": [
              "            Producto Categoría del Producto    Precio  Costo de envío  \\\n",
              "0  Asistente virtual           Electrónicos  164300.0          6900.0   \n",
              "1    Mesa de comedor                Muebles  192300.0          8400.0   \n",
              "2      Juego de mesa               Juguetes  209600.0         15900.0   \n",
              "3         Microondas      Electrodomésticos  757500.0         41000.0   \n",
              "4   Silla de oficina                Muebles  335200.0         20200.0   \n",
              "\n",
              "  Fecha de Compra         Vendedor Lugar de Compra  Calificación  \\\n",
              "0      16/01/2021      Pedro Gomez          Bogotá             4   \n",
              "1      18/05/2022  Beatriz Morales        Medellín             1   \n",
              "2      15/03/2021   Juan Fernandez       Cartagena             1   \n",
              "3      03/05/2022   Juan Fernandez            Cali             4   \n",
              "4      07/11/2020    Maria Alfonso        Medellín             5   \n",
              "\n",
              "       Método de pago  Cantidad de cuotas       lat       lon    Sucursal  \n",
              "0  Tarjeta de crédito                   8   4.60971 -74.08175  Sucursal 1  \n",
              "1  Tarjeta de crédito                   4   6.25184 -75.56359  Sucursal 1  \n",
              "2  Tarjeta de crédito                   1  10.39972 -75.51444  Sucursal 1  \n",
              "3               Nequi                   1   3.43722 -76.52250  Sucursal 1  \n",
              "4               Nequi                   1   6.25184 -75.56359  Sucursal 1  "
            ],
            "text/html": [
              "\n",
              "  <div id=\"df-8961659d-9cbb-4244-b1d1-b4f09a9810db\" class=\"colab-df-container\">\n",
              "    <div>\n",
              "<style scoped>\n",
              "    .dataframe tbody tr th:only-of-type {\n",
              "        vertical-align: middle;\n",
              "    }\n",
              "\n",
              "    .dataframe tbody tr th {\n",
              "        vertical-align: top;\n",
              "    }\n",
              "\n",
              "    .dataframe thead th {\n",
              "        text-align: right;\n",
              "    }\n",
              "</style>\n",
              "<table border=\"1\" class=\"dataframe\">\n",
              "  <thead>\n",
              "    <tr style=\"text-align: right;\">\n",
              "      <th></th>\n",
              "      <th>Producto</th>\n",
              "      <th>Categoría del Producto</th>\n",
              "      <th>Precio</th>\n",
              "      <th>Costo de envío</th>\n",
              "      <th>Fecha de Compra</th>\n",
              "      <th>Vendedor</th>\n",
              "      <th>Lugar de Compra</th>\n",
              "      <th>Calificación</th>\n",
              "      <th>Método de pago</th>\n",
              "      <th>Cantidad de cuotas</th>\n",
              "      <th>lat</th>\n",
              "      <th>lon</th>\n",
              "      <th>Sucursal</th>\n",
              "    </tr>\n",
              "  </thead>\n",
              "  <tbody>\n",
              "    <tr>\n",
              "      <th>0</th>\n",
              "      <td>Asistente virtual</td>\n",
              "      <td>Electrónicos</td>\n",
              "      <td>164300.0</td>\n",
              "      <td>6900.0</td>\n",
              "      <td>16/01/2021</td>\n",
              "      <td>Pedro Gomez</td>\n",
              "      <td>Bogotá</td>\n",
              "      <td>4</td>\n",
              "      <td>Tarjeta de crédito</td>\n",
              "      <td>8</td>\n",
              "      <td>4.60971</td>\n",
              "      <td>-74.08175</td>\n",
              "      <td>Sucursal 1</td>\n",
              "    </tr>\n",
              "    <tr>\n",
              "      <th>1</th>\n",
              "      <td>Mesa de comedor</td>\n",
              "      <td>Muebles</td>\n",
              "      <td>192300.0</td>\n",
              "      <td>8400.0</td>\n",
              "      <td>18/05/2022</td>\n",
              "      <td>Beatriz Morales</td>\n",
              "      <td>Medellín</td>\n",
              "      <td>1</td>\n",
              "      <td>Tarjeta de crédito</td>\n",
              "      <td>4</td>\n",
              "      <td>6.25184</td>\n",
              "      <td>-75.56359</td>\n",
              "      <td>Sucursal 1</td>\n",
              "    </tr>\n",
              "    <tr>\n",
              "      <th>2</th>\n",
              "      <td>Juego de mesa</td>\n",
              "      <td>Juguetes</td>\n",
              "      <td>209600.0</td>\n",
              "      <td>15900.0</td>\n",
              "      <td>15/03/2021</td>\n",
              "      <td>Juan Fernandez</td>\n",
              "      <td>Cartagena</td>\n",
              "      <td>1</td>\n",
              "      <td>Tarjeta de crédito</td>\n",
              "      <td>1</td>\n",
              "      <td>10.39972</td>\n",
              "      <td>-75.51444</td>\n",
              "      <td>Sucursal 1</td>\n",
              "    </tr>\n",
              "    <tr>\n",
              "      <th>3</th>\n",
              "      <td>Microondas</td>\n",
              "      <td>Electrodomésticos</td>\n",
              "      <td>757500.0</td>\n",
              "      <td>41000.0</td>\n",
              "      <td>03/05/2022</td>\n",
              "      <td>Juan Fernandez</td>\n",
              "      <td>Cali</td>\n",
              "      <td>4</td>\n",
              "      <td>Nequi</td>\n",
              "      <td>1</td>\n",
              "      <td>3.43722</td>\n",
              "      <td>-76.52250</td>\n",
              "      <td>Sucursal 1</td>\n",
              "    </tr>\n",
              "    <tr>\n",
              "      <th>4</th>\n",
              "      <td>Silla de oficina</td>\n",
              "      <td>Muebles</td>\n",
              "      <td>335200.0</td>\n",
              "      <td>20200.0</td>\n",
              "      <td>07/11/2020</td>\n",
              "      <td>Maria Alfonso</td>\n",
              "      <td>Medellín</td>\n",
              "      <td>5</td>\n",
              "      <td>Nequi</td>\n",
              "      <td>1</td>\n",
              "      <td>6.25184</td>\n",
              "      <td>-75.56359</td>\n",
              "      <td>Sucursal 1</td>\n",
              "    </tr>\n",
              "  </tbody>\n",
              "</table>\n",
              "</div>\n",
              "    <div class=\"colab-df-buttons\">\n",
              "\n",
              "  <div class=\"colab-df-container\">\n",
              "    <button class=\"colab-df-convert\" onclick=\"convertToInteractive('df-8961659d-9cbb-4244-b1d1-b4f09a9810db')\"\n",
              "            title=\"Convert this dataframe to an interactive table.\"\n",
              "            style=\"display:none;\">\n",
              "\n",
              "  <svg xmlns=\"http://www.w3.org/2000/svg\" height=\"24px\" viewBox=\"0 -960 960 960\">\n",
              "    <path d=\"M120-120v-720h720v720H120Zm60-500h600v-160H180v160Zm220 220h160v-160H400v160Zm0 220h160v-160H400v160ZM180-400h160v-160H180v160Zm440 0h160v-160H620v160ZM180-180h160v-160H180v160Zm440 0h160v-160H620v160Z\"/>\n",
              "  </svg>\n",
              "    </button>\n",
              "\n",
              "  <style>\n",
              "    .colab-df-container {\n",
              "      display:flex;\n",
              "      gap: 12px;\n",
              "    }\n",
              "\n",
              "    .colab-df-convert {\n",
              "      background-color: #E8F0FE;\n",
              "      border: none;\n",
              "      border-radius: 50%;\n",
              "      cursor: pointer;\n",
              "      display: none;\n",
              "      fill: #1967D2;\n",
              "      height: 32px;\n",
              "      padding: 0 0 0 0;\n",
              "      width: 32px;\n",
              "    }\n",
              "\n",
              "    .colab-df-convert:hover {\n",
              "      background-color: #E2EBFA;\n",
              "      box-shadow: 0px 1px 2px rgba(60, 64, 67, 0.3), 0px 1px 3px 1px rgba(60, 64, 67, 0.15);\n",
              "      fill: #174EA6;\n",
              "    }\n",
              "\n",
              "    .colab-df-buttons div {\n",
              "      margin-bottom: 4px;\n",
              "    }\n",
              "\n",
              "    [theme=dark] .colab-df-convert {\n",
              "      background-color: #3B4455;\n",
              "      fill: #D2E3FC;\n",
              "    }\n",
              "\n",
              "    [theme=dark] .colab-df-convert:hover {\n",
              "      background-color: #434B5C;\n",
              "      box-shadow: 0px 1px 3px 1px rgba(0, 0, 0, 0.15);\n",
              "      filter: drop-shadow(0px 1px 2px rgba(0, 0, 0, 0.3));\n",
              "      fill: #FFFFFF;\n",
              "    }\n",
              "  </style>\n",
              "\n",
              "    <script>\n",
              "      const buttonEl =\n",
              "        document.querySelector('#df-8961659d-9cbb-4244-b1d1-b4f09a9810db button.colab-df-convert');\n",
              "      buttonEl.style.display =\n",
              "        google.colab.kernel.accessAllowed ? 'block' : 'none';\n",
              "\n",
              "      async function convertToInteractive(key) {\n",
              "        const element = document.querySelector('#df-8961659d-9cbb-4244-b1d1-b4f09a9810db');\n",
              "        const dataTable =\n",
              "          await google.colab.kernel.invokeFunction('convertToInteractive',\n",
              "                                                    [key], {});\n",
              "        if (!dataTable) return;\n",
              "\n",
              "        const docLinkHtml = 'Like what you see? Visit the ' +\n",
              "          '<a target=\"_blank\" href=https://colab.research.google.com/notebooks/data_table.ipynb>data table notebook</a>'\n",
              "          + ' to learn more about interactive tables.';\n",
              "        element.innerHTML = '';\n",
              "        dataTable['output_type'] = 'display_data';\n",
              "        await google.colab.output.renderOutput(dataTable, element);\n",
              "        const docLink = document.createElement('div');\n",
              "        docLink.innerHTML = docLinkHtml;\n",
              "        element.appendChild(docLink);\n",
              "      }\n",
              "    </script>\n",
              "  </div>\n",
              "\n",
              "\n",
              "<div id=\"df-bfdb433a-fc16-4c20-9388-a8a6d46d8613\">\n",
              "  <button class=\"colab-df-quickchart\" onclick=\"quickchart('df-bfdb433a-fc16-4c20-9388-a8a6d46d8613')\"\n",
              "            title=\"Suggest charts\"\n",
              "            style=\"display:none;\">\n",
              "\n",
              "<svg xmlns=\"http://www.w3.org/2000/svg\" height=\"24px\"viewBox=\"0 0 24 24\"\n",
              "     width=\"24px\">\n",
              "    <g>\n",
              "        <path d=\"M19 3H5c-1.1 0-2 .9-2 2v14c0 1.1.9 2 2 2h14c1.1 0 2-.9 2-2V5c0-1.1-.9-2-2-2zM9 17H7v-7h2v7zm4 0h-2V7h2v10zm4 0h-2v-4h2v4z\"/>\n",
              "    </g>\n",
              "</svg>\n",
              "  </button>\n",
              "\n",
              "<style>\n",
              "  .colab-df-quickchart {\n",
              "      --bg-color: #E8F0FE;\n",
              "      --fill-color: #1967D2;\n",
              "      --hover-bg-color: #E2EBFA;\n",
              "      --hover-fill-color: #174EA6;\n",
              "      --disabled-fill-color: #AAA;\n",
              "      --disabled-bg-color: #DDD;\n",
              "  }\n",
              "\n",
              "  [theme=dark] .colab-df-quickchart {\n",
              "      --bg-color: #3B4455;\n",
              "      --fill-color: #D2E3FC;\n",
              "      --hover-bg-color: #434B5C;\n",
              "      --hover-fill-color: #FFFFFF;\n",
              "      --disabled-bg-color: #3B4455;\n",
              "      --disabled-fill-color: #666;\n",
              "  }\n",
              "\n",
              "  .colab-df-quickchart {\n",
              "    background-color: var(--bg-color);\n",
              "    border: none;\n",
              "    border-radius: 50%;\n",
              "    cursor: pointer;\n",
              "    display: none;\n",
              "    fill: var(--fill-color);\n",
              "    height: 32px;\n",
              "    padding: 0;\n",
              "    width: 32px;\n",
              "  }\n",
              "\n",
              "  .colab-df-quickchart:hover {\n",
              "    background-color: var(--hover-bg-color);\n",
              "    box-shadow: 0 1px 2px rgba(60, 64, 67, 0.3), 0 1px 3px 1px rgba(60, 64, 67, 0.15);\n",
              "    fill: var(--button-hover-fill-color);\n",
              "  }\n",
              "\n",
              "  .colab-df-quickchart-complete:disabled,\n",
              "  .colab-df-quickchart-complete:disabled:hover {\n",
              "    background-color: var(--disabled-bg-color);\n",
              "    fill: var(--disabled-fill-color);\n",
              "    box-shadow: none;\n",
              "  }\n",
              "\n",
              "  .colab-df-spinner {\n",
              "    border: 2px solid var(--fill-color);\n",
              "    border-color: transparent;\n",
              "    border-bottom-color: var(--fill-color);\n",
              "    animation:\n",
              "      spin 1s steps(1) infinite;\n",
              "  }\n",
              "\n",
              "  @keyframes spin {\n",
              "    0% {\n",
              "      border-color: transparent;\n",
              "      border-bottom-color: var(--fill-color);\n",
              "      border-left-color: var(--fill-color);\n",
              "    }\n",
              "    20% {\n",
              "      border-color: transparent;\n",
              "      border-left-color: var(--fill-color);\n",
              "      border-top-color: var(--fill-color);\n",
              "    }\n",
              "    30% {\n",
              "      border-color: transparent;\n",
              "      border-left-color: var(--fill-color);\n",
              "      border-top-color: var(--fill-color);\n",
              "      border-right-color: var(--fill-color);\n",
              "    }\n",
              "    40% {\n",
              "      border-color: transparent;\n",
              "      border-right-color: var(--fill-color);\n",
              "      border-top-color: var(--fill-color);\n",
              "    }\n",
              "    60% {\n",
              "      border-color: transparent;\n",
              "      border-right-color: var(--fill-color);\n",
              "    }\n",
              "    80% {\n",
              "      border-color: transparent;\n",
              "      border-right-color: var(--fill-color);\n",
              "      border-bottom-color: var(--fill-color);\n",
              "    }\n",
              "    90% {\n",
              "      border-color: transparent;\n",
              "      border-bottom-color: var(--fill-color);\n",
              "    }\n",
              "  }\n",
              "</style>\n",
              "\n",
              "  <script>\n",
              "    async function quickchart(key) {\n",
              "      const quickchartButtonEl =\n",
              "        document.querySelector('#' + key + ' button');\n",
              "      quickchartButtonEl.disabled = true;  // To prevent multiple clicks.\n",
              "      quickchartButtonEl.classList.add('colab-df-spinner');\n",
              "      try {\n",
              "        const charts = await google.colab.kernel.invokeFunction(\n",
              "            'suggestCharts', [key], {});\n",
              "      } catch (error) {\n",
              "        console.error('Error during call to suggestCharts:', error);\n",
              "      }\n",
              "      quickchartButtonEl.classList.remove('colab-df-spinner');\n",
              "      quickchartButtonEl.classList.add('colab-df-quickchart-complete');\n",
              "    }\n",
              "    (() => {\n",
              "      let quickchartButtonEl =\n",
              "        document.querySelector('#df-bfdb433a-fc16-4c20-9388-a8a6d46d8613 button');\n",
              "      quickchartButtonEl.style.display =\n",
              "        google.colab.kernel.accessAllowed ? 'block' : 'none';\n",
              "    })();\n",
              "  </script>\n",
              "</div>\n",
              "\n",
              "    </div>\n",
              "  </div>\n"
            ],
            "application/vnd.google.colaboratory.intrinsic+json": {
              "type": "dataframe",
              "variable_name": "df_total",
              "summary": "{\n  \"name\": \"df_total\",\n  \"rows\": 9435,\n  \"fields\": [\n    {\n      \"column\": \"Producto\",\n      \"properties\": {\n        \"dtype\": \"category\",\n        \"num_unique_values\": 51,\n        \"samples\": [\n          \"Guitarra ac\\u00fastica\",\n          \"Bal\\u00f3n de baloncesto\",\n          \"Smartwatch\"\n        ],\n        \"semantic_type\": \"\",\n        \"description\": \"\"\n      }\n    },\n    {\n      \"column\": \"Categor\\u00eda del Producto\",\n      \"properties\": {\n        \"dtype\": \"category\",\n        \"num_unique_values\": 8,\n        \"samples\": [\n          \"Muebles\",\n          \"Deportes y diversi\\u00f3n\",\n          \"Electr\\u00f3nicos\"\n        ],\n        \"semantic_type\": \"\",\n        \"description\": \"\"\n      }\n    },\n    {\n      \"column\": \"Precio\",\n      \"properties\": {\n        \"dtype\": \"number\",\n        \"std\": 590320.6753149017,\n        \"min\": 7600.0,\n        \"max\": 2977000.0,\n        \"num_unique_values\": 5483,\n        \"samples\": [\n          153400.0,\n          55600.0,\n          1518200.0\n        ],\n        \"semantic_type\": \"\",\n        \"description\": \"\"\n      }\n    },\n    {\n      \"column\": \"Costo de env\\u00edo\",\n      \"properties\": {\n        \"dtype\": \"number\",\n        \"std\": 31480.036345702658,\n        \"min\": 0.0,\n        \"max\": 162500.0,\n        \"num_unique_values\": 1204,\n        \"samples\": [\n          24100.0,\n          15400.0,\n          106400.0\n        ],\n        \"semantic_type\": \"\",\n        \"description\": \"\"\n      }\n    },\n    {\n      \"column\": \"Fecha de Compra\",\n      \"properties\": {\n        \"dtype\": \"object\",\n        \"num_unique_values\": 1185,\n        \"samples\": [\n          \"15/04/2021\",\n          \"28/08/2021\",\n          \"17/05/2022\"\n        ],\n        \"semantic_type\": \"\",\n        \"description\": \"\"\n      }\n    },\n    {\n      \"column\": \"Vendedor\",\n      \"properties\": {\n        \"dtype\": \"category\",\n        \"num_unique_values\": 14,\n        \"samples\": [\n          \"Juliana Costa\",\n          \"Mariana Herrera\",\n          \"Pedro Gomez\"\n        ],\n        \"semantic_type\": \"\",\n        \"description\": \"\"\n      }\n    },\n    {\n      \"column\": \"Lugar de Compra\",\n      \"properties\": {\n        \"dtype\": \"category\",\n        \"num_unique_values\": 19,\n        \"samples\": [\n          \"Bogot\\u00e1\",\n          \"Pereira\",\n          \"Neiva\"\n        ],\n        \"semantic_type\": \"\",\n        \"description\": \"\"\n      }\n    },\n    {\n      \"column\": \"Calificaci\\u00f3n\",\n      \"properties\": {\n        \"dtype\": \"number\",\n        \"std\": 1,\n        \"min\": 1,\n        \"max\": 5,\n        \"num_unique_values\": 5,\n        \"samples\": [\n          1,\n          2,\n          5\n        ],\n        \"semantic_type\": \"\",\n        \"description\": \"\"\n      }\n    },\n    {\n      \"column\": \"M\\u00e9todo de pago\",\n      \"properties\": {\n        \"dtype\": \"category\",\n        \"num_unique_values\": 4,\n        \"samples\": [\n          \"Nequi\",\n          \"Tarjeta de d\\u00e9bito\",\n          \"Tarjeta de cr\\u00e9dito\"\n        ],\n        \"semantic_type\": \"\",\n        \"description\": \"\"\n      }\n    },\n    {\n      \"column\": \"Cantidad de cuotas\",\n      \"properties\": {\n        \"dtype\": \"number\",\n        \"std\": 2,\n        \"min\": 1,\n        \"max\": 24,\n        \"num_unique_values\": 19,\n        \"samples\": [\n          8,\n          2,\n          14\n        ],\n        \"semantic_type\": \"\",\n        \"description\": \"\"\n      }\n    },\n    {\n      \"column\": \"lat\",\n      \"properties\": {\n        \"dtype\": \"number\",\n        \"std\": 2.3556634699371206,\n        \"min\": -4.21528,\n        \"max\": 11.54444,\n        \"num_unique_values\": 19,\n        \"samples\": [\n          4.60971,\n          4.81333,\n          2.9273\n        ],\n        \"semantic_type\": \"\",\n        \"description\": \"\"\n      }\n    },\n    {\n      \"column\": \"lon\",\n      \"properties\": {\n        \"dtype\": \"number\",\n        \"std\": 1.2071549925700666,\n        \"min\": -77.28111,\n        \"max\": -67.9239,\n        \"num_unique_values\": 19,\n        \"samples\": [\n          -74.08175,\n          -75.69611,\n          -75.28189\n        ],\n        \"semantic_type\": \"\",\n        \"description\": \"\"\n      }\n    },\n    {\n      \"column\": \"Sucursal\",\n      \"properties\": {\n        \"dtype\": \"category\",\n        \"num_unique_values\": 4,\n        \"samples\": [\n          \"Sucursal 2\",\n          \"Sucursal 4\",\n          \"Sucursal 1\"\n        ],\n        \"semantic_type\": \"\",\n        \"description\": \"\"\n      }\n    }\n  ]\n}"
            }
          },
          "metadata": {},
          "execution_count": 4
        }
      ]
    },
    {
      "cell_type": "markdown",
      "source": [
        "#1. Análisis de facturación\n",
        "\n"
      ],
      "metadata": {
        "id": "X62IW3KFUIYm"
      }
    },
    {
      "cell_type": "code",
      "source": [
        "facturacion_por_sucursal = df_total.groupby(\"Sucursal\")[\"Precio\"].sum().reset_index()\n",
        "facturacion_por_sucursal.columns = [\"Sucursal\", \"Facturación\"]\n",
        "\n",
        "total_ventas = df_total[\"Precio\"].sum()\n",
        "\n",
        "facturacion_por_sucursal[\"Facturación_MM$\"] = (facturacion_por_sucursal[\"Facturación\"] / 1000000).round(2)\n",
        "\n",
        "facturacion_por_sucursal[\"Porcentaje\"] = (facturacion_por_sucursal[\"Facturación\"] / total_ventas * 100).round(2)\n",
        "\n",
        "print(\"La facturación por sucursal expresada en MM$ y porcentaje del total:\")\n",
        "encabezado = f\"{'Sucursal':<15} {'Facturación_MM$':<20} {'% Aporte':<15}\"\n",
        "Separador = '*' *len(encabezado)\n",
        "\n",
        "print(Separador)\n",
        "print(encabezado)\n",
        "print(Separador)\n",
        "\n",
        "for _, fila in facturacion_por_sucursal.iterrows():\n",
        "  print(f\"{fila['Sucursal']:<15} {fila['Facturación_MM$']:<20} {fila['Porcentaje']:<15}\")\n",
        "\n",
        "print(Separador)\n",
        "\n",
        "print(f\"\\nTotal de ventas: {round(total_ventas / 1000000, 2)} MM$\")\n"
      ],
      "metadata": {
        "colab": {
          "base_uri": "https://localhost:8080/"
        },
        "id": "HQDS98I5fOOU",
        "outputId": "40cd96a7-97ef-45b8-ef6e-4361257e8d6c"
      },
      "execution_count": 42,
      "outputs": [
        {
          "output_type": "stream",
          "name": "stdout",
          "text": [
            "La facturación por sucursal expresada en MM$ y porcentaje del total:\n",
            "****************************************************\n",
            "Sucursal        Facturación_MM$      % Aporte       \n",
            "****************************************************\n",
            "Sucursal 1      1150.88              26.13          \n",
            "Sucursal 2      1116.34              25.35          \n",
            "Sucursal 3      1098.02              24.93          \n",
            "Sucursal 4      1038.38              23.58          \n",
            "****************************************************\n",
            "\n",
            "Total de ventas: 4403.62 MM$\n"
          ]
        }
      ]
    },
    {
      "cell_type": "code",
      "source": [
        "import matplotlib.pyplot as plt\n",
        "\n",
        "# Crear gráfico de barras\n",
        "plt.figure(figsize=(10, 6))  # Tamaño del gráfico\n",
        "plt.bar(facturacion_por_sucursal[\"Sucursal\"], facturacion_por_sucursal[\"Facturación_MM$\"], color='orange')\n",
        "\n",
        "# Títulos y etiquetas\n",
        "plt.title(\"Facturación por Sucursal (en MM$)\", fontsize=14)\n",
        "plt.xlabel(\"Sucursal\", fontsize=12)\n",
        "plt.ylabel(\"Facturación (MM$)\", fontsize=12)\n",
        "\n",
        "# Mostrar valores encima de las barras\n",
        "for index, value in enumerate(facturacion_por_sucursal[\"Facturación_MM$\"]):\n",
        "    plt.text(index, value + 0.1, f\"{value:.2f}\", ha='center', fontsize=10)\n",
        "\n",
        "# Mostrar gráfico\n",
        "plt.tight_layout()\n",
        "plt.show()\n"
      ],
      "metadata": {
        "colab": {
          "base_uri": "https://localhost:8080/",
          "height": 607
        },
        "id": "j4Mts7MKk_8q",
        "outputId": "002e11c3-71af-4183-ed86-11c540947571"
      },
      "execution_count": 54,
      "outputs": [
        {
          "output_type": "display_data",
          "data": {
            "text/plain": [
              "<Figure size 1000x600 with 1 Axes>"
            ],
            "image/png": "[encoded data removed]"
          },
          "metadata": {}
        }
      ]
    },
    {
      "cell_type": "markdown",
      "source": [
        "Se procede a unir los 4 archivos .CSV, esto con la intención de trabajar con  una sola base de datos, así mismo los montos en $ están expresados en Millones para tener una mejor visibilidad de los datos. De acuerdo a la primera actividad de facturación por sucursales puede observarse que la sucursal que más factura es la número 1 con un 26,13% y la que menos factura es la Sucursal 4 con un 23,58%, sin embargo es necesario analizar otro tipos de variables que puedan ayudar a definir cual de las 4 sucursales es menos rentable."
      ],
      "metadata": {
        "id": "hn88Z72ygXM6"
      }
    },
    {
      "cell_type": "code",
      "source": [
        "import pandas as pd\n",
        "\n",
        "# Convertir fechas\n",
        "df_total['Fecha de Compra'] = pd.to_datetime(df_total['Fecha de Compra'], errors='coerce')\n",
        "df_total['Año'] = df_total['Fecha de Compra'].dt.year\n",
        "\n",
        "# Agrupar por sucursal y año\n",
        "facturacionanual = df_total.groupby(['Sucursal', 'Año']).agg(\n",
        "    MM=(\"Precio\", lambda x: round(x.sum() / 1_000_000, 2)),\n",
        "    Clientes=(\"Producto\", 'count')\n",
        ").reset_index()\n",
        "\n",
        "facturacionanual = facturacionanual.rename(columns={\"Clientes\": \"Número de Clientes\"})\n",
        "\n",
        "facturacionanual = facturacionanual[[\"Sucursal\", \"Año\", \"Número de Clientes\", \"MM\"]]\n",
        "\n",
        "\n",
        "print(\"*\" * 70)\n",
        "print(f\"{'Sucursal':<15} {'Año':<6} {'Clientes':>20} {'Monto (MM$)':>20}\")\n",
        "print(\"*\" * 70)\n",
        "\n",
        "for _, row in facturacionanual.iterrows():\n",
        "    print(f\"{row['Sucursal']:<15} {row['Año']:<6} {row['Número de Clientes']:>20} {row['MM']:>20.2f}\")\n",
        "\n",
        "print(\"*\" * 70)\n",
        "\n",
        "# Calcular variaciones entre los dos últimos años por sucursal\n",
        "print(\"\\nVariación entre los dos últimos años por Sucursal:\\n\")\n",
        "print(f\"{'Sucursal':<15} {'Var Clientes (%)':>20} {'Var Monto MM$ (%)':>25}\")\n",
        "print(\"-\" * 65)\n",
        "\n",
        "variaciones = []\n",
        "\n",
        "for sucursal, grupo in facturacionanual.groupby(\"Sucursal\"):\n",
        "    grupo_ordenado = grupo.sort_values(\"Año\")\n",
        "\n",
        "    if len(grupo_ordenado) >= 2:\n",
        "        año_actual = grupo_ordenado.iloc[-2]\n",
        "        año_anterior = grupo_ordenado.iloc[-3]\n",
        "\n",
        "        var_clientes = ((año_actual[\"Número de Clientes\"] - año_anterior[\"Número de Clientes\"]) / año_anterior[\"Número de Clientes\"]) * 100\n",
        "        var_mm = ((año_actual[\"MM\"] - año_anterior[\"MM\"]) / año_anterior[\"MM\"]) * 100\n",
        "\n",
        "        print(f\"{sucursal:<15} {var_clientes:>20.2f} {var_mm:>25.2f}\")\n",
        "\n"
      ],
      "metadata": {
        "colab": {
          "base_uri": "https://localhost:8080/"
        },
        "id": "SaO17Ghn8bx_",
        "outputId": "a5ffa140-2b64-42ea-ddf2-9029545510ab"
      },
      "execution_count": 29,
      "outputs": [
        {
          "output_type": "stream",
          "name": "stdout",
          "text": [
            "**********************************************************************\n",
            "Sucursal        Año                Clientes          Monto (MM$)\n",
            "**********************************************************************\n",
            "Sucursal 1      2020                    715               368.93\n",
            "Sucursal 1      2021                    739               362.12\n",
            "Sucursal 1      2022                    713               316.57\n",
            "Sucursal 1      2023                    192               103.26\n",
            "Sucursal 2      2020                    700               320.47\n",
            "Sucursal 2      2021                    759               351.22\n",
            "Sucursal 2      2022                    708               358.23\n",
            "Sucursal 2      2023                    192                86.43\n",
            "Sucursal 3      2020                    701               321.71\n",
            "Sucursal 3      2021                    740               362.95\n",
            "Sucursal 3      2022                    740               350.44\n",
            "Sucursal 3      2023                    178                62.92\n",
            "Sucursal 4      2020                    745               330.85\n",
            "Sucursal 4      2021                    744               347.82\n",
            "Sucursal 4      2022                    712               302.22\n",
            "Sucursal 4      2023                    157                57.48\n",
            "**********************************************************************\n",
            "\n",
            "Variación entre los dos últimos años por Sucursal:\n",
            "\n",
            "Sucursal            Var Clientes (%)         Var Monto MM$ (%)\n",
            "-----------------------------------------------------------------\n",
            "Sucursal 1                     -3.52                    -12.58\n",
            "Sucursal 2                     -6.72                      2.00\n",
            "Sucursal 3                      0.00                     -3.45\n",
            "Sucursal 4                     -4.30                    -13.11\n"
          ]
        }
      ]
    },
    {
      "cell_type": "markdown",
      "source": [
        "Se realiza análisis tomando en cuenta los años de facturación y número de clientes por sucursal, aunado a esto se realiza la variación entre el año posterior comparado con el año más reciente, sin incluir el año 2023 debido a que al parecer está comenzando este año y no se tiene mucha información, es decir no se puede comparar aún, sin embargo tomamos año 2022 contra año 2021, tomando en cuenta el análisis de la facturación inicial y de acuerdo a la variación por años y Sucursales puede observarse que la Sucursal 4 es la que tiene el peor ïndice, ya que la tienda 2 tiene la variación negativa másl alta en clientes, puede observarse que mejoró en MM$ de forma positiva, cosa que ninguna de las otras tres pudieron."
      ],
      "metadata": {
        "id": "apQcHSomUXIn"
      }
    },
    {
      "cell_type": "code",
      "source": [
        "pd.set_option('display.max_rows', None)\n",
        "pd.set_option('display.max_columns', None)\n",
        "pd.set_option('display.width', None)\n",
        "pd.set_option('display.max_colwidth', None)\n",
        "# Convertir fechas\n",
        "df_total['Fecha de Compra'] = pd.to_datetime(df_total['Fecha de Compra'], errors='coerce')\n",
        "df_total['Año'] = df_total['Fecha de Compra'].dt.year\n",
        "df_total['Mes'] = df_total['Fecha de Compra'].dt.month\n",
        "\n",
        "consolidado= df_total[['Mes', 'Año']].drop_duplicates()\n",
        "#print(consolidado.sort_values(by=['Mes', 'Año']))\n",
        "print(consolidado.sort_values(by=['Mes', 'Año']))"
      ],
      "metadata": {
        "colab": {
          "base_uri": "https://localhost:8080/"
        },
        "id": "1exZ80_CRiyE",
        "outputId": "a4ae6139-dcc1-4a14-fda6-a2d0064d250e"
      },
      "execution_count": 34,
      "outputs": [
        {
          "output_type": "stream",
          "name": "stdout",
          "text": [
            "     Mes   Año\n",
            "19     1  2020\n",
            "0      1  2021\n",
            "8      1  2022\n",
            "157    1  2023\n",
            "9      2  2020\n",
            "43     2  2021\n",
            "70     2  2022\n",
            "24     2  2023\n",
            "117    3  2020\n",
            "2      3  2021\n",
            "44     3  2022\n",
            "23     3  2023\n",
            "10     4  2020\n",
            "42     4  2021\n",
            "22     4  2022\n",
            "48     5  2020\n",
            "34     5  2021\n",
            "1      5  2022\n",
            "92     6  2020\n",
            "7      6  2021\n",
            "69     6  2022\n",
            "28     7  2020\n",
            "11     7  2021\n",
            "21     7  2022\n",
            "38     8  2020\n",
            "6      8  2021\n",
            "52     8  2022\n",
            "13     9  2020\n",
            "30     9  2021\n",
            "40     9  2022\n",
            "101   10  2020\n",
            "82    10  2021\n",
            "76    10  2022\n",
            "4     11  2020\n",
            "77    11  2021\n",
            "120   11  2022\n",
            "5     12  2020\n",
            "29    12  2021\n",
            "49    12  2022\n"
          ]
        }
      ]
    },
    {
      "cell_type": "markdown",
      "source": [
        "Se realiza este código para comprobar que realmente el año 2023 posee datos solo hasta marzo, lo que nos hace pensar que estamos aún en el primer trimestre del mismo."
      ],
      "metadata": {
        "id": "wCjpDslDWpds"
      }
    },
    {
      "cell_type": "markdown",
      "source": [
        "# 2. Ventas por categoría"
      ],
      "metadata": {
        "id": "2V_vcAPzWZmR"
      }
    },
    {
      "cell_type": "code",
      "source": [
        "ventasxproduct = df_total.groupby(['Sucursal','Categoría del Producto'])['Precio'].sum().reset_index()\n",
        "ventasxproduct['Precio'] = (ventasxproduct['Precio'] / 1_000_000).round(2)\n",
        "\n",
        "print(\"*\" * 90)\n",
        "print(f\"{'Sucursal':<20} {'Categoría del Producto':<25} {'Monto (MM$)':>35}\")\n",
        "print(\"*\" * 90)\n",
        "\n",
        "for index, row in ventasxproduct.iterrows():\n",
        "    print(f\"{row['Sucursal']:<20}{row['Categoría del Producto']:<25} {row['Precio']:>35.2f}\")\n",
        "\n",
        "print(\"*\" * 90)"
      ],
      "metadata": {
        "colab": {
          "base_uri": "https://localhost:8080/"
        },
        "id": "sbBit0ZUejMw",
        "outputId": "2b9d18a5-749e-4257-f831-64523cb42bcf"
      },
      "execution_count": null,
      "outputs": [
        {
          "output_type": "stream",
          "name": "stdout",
          "text": [
            "******************************************************************************************\n",
            "Sucursal             Categoría del Producto                            Monto (MM$)\n",
            "******************************************************************************************\n",
            "Sucursal 1          Artículos para el hogar                                 12.70\n",
            "Sucursal 1          Deportes y diversión                                    39.29\n",
            "Sucursal 1          Electrodomésticos                                      363.69\n",
            "Sucursal 1          Electrónicos                                           429.49\n",
            "Sucursal 1          Instrumentos musicales                                  91.30\n",
            "Sucursal 1          Juguetes                                                18.00\n",
            "Sucursal 1          Libros                                                   8.78\n",
            "Sucursal 1          Muebles                                                187.63\n",
            "Sucursal 2          Artículos para el hogar                                 14.75\n",
            "Sucursal 2          Deportes y diversión                                    34.74\n",
            "Sucursal 2          Electrodomésticos                                      348.57\n",
            "Sucursal 2          Electrónicos                                           410.83\n",
            "Sucursal 2          Instrumentos musicales                                 104.99\n",
            "Sucursal 2          Juguetes                                                15.95\n",
            "Sucursal 2          Libros                                                  10.09\n",
            "Sucursal 2          Muebles                                                176.43\n",
            "Sucursal 3          Artículos para el hogar                                 15.06\n",
            "Sucursal 3          Deportes y diversión                                    35.59\n",
            "Sucursal 3          Electrodomésticos                                      329.24\n",
            "Sucursal 3          Electrónicos                                           410.78\n",
            "Sucursal 3          Instrumentos musicales                                  77.38\n",
            "Sucursal 3          Juguetes                                                19.40\n",
            "Sucursal 3          Libros                                                   9.50\n",
            "Sucursal 3          Muebles                                                201.07\n",
            "Sucursal 4          Artículos para el hogar                                 15.07\n",
            "Sucursal 4          Deportes y diversión                                    33.35\n",
            "Sucursal 4          Electrodomésticos                                      283.26\n",
            "Sucursal 4          Electrónicos                                           409.48\n",
            "Sucursal 4          Instrumentos musicales                                  75.10\n",
            "Sucursal 4          Juguetes                                                20.26\n",
            "Sucursal 4          Libros                                                   9.32\n",
            "Sucursal 4          Muebles                                                192.53\n",
            "******************************************************************************************\n"
          ]
        }
      ]
    },
    {
      "cell_type": "code",
      "source": [
        "import seaborn as sns\n",
        "import matplotlib.pyplot as plt\n",
        "ventasxproducto = df_total.groupby(['Sucursal', 'Categoría del Producto'])['Precio'].sum().reset_index()\n",
        "\n",
        "ventasxproducto['Precio_MM$'] = (ventasxproducto['Precio'] / 1_000_000).round(2)\n",
        "\n",
        "plt.figure(figsize=(12, 7))\n",
        "sns.barplot(data=ventasxproducto, x='Sucursal', y='Precio_MM$', hue='Categoría del Producto')\n",
        "\n",
        "\n",
        "plt.title('Facturación por Sucursal y Categoría del Producto (MM$)', fontsize=14)\n",
        "plt.xlabel('Sucursal', fontsize=12)\n",
        "plt.ylabel('Facturación (MM$)', fontsize=12)\n",
        "plt.legend(title='Categoría del Producto', bbox_to_anchor=(1.05, 1), loc='upper left')\n",
        "\n",
        "# Mostrar gráfico\n",
        "plt.tight_layout()\n",
        "plt.show()"
      ],
      "metadata": {
        "colab": {
          "base_uri": "https://localhost:8080/",
          "height": 707
        },
        "id": "sKqPhEFOqqg8",
        "outputId": "4b67ecd5-0ec5-4872-cf24-c6d123d3e50c"
      },
      "execution_count": 55,
      "outputs": [
        {
          "output_type": "display_data",
          "data": {
            "text/plain": [
              "<Figure size 1200x700 with 1 Axes>"
            ],
            "image/png": "[encoded data removed]"
          },
          "metadata": {}
        }
      ]
    },
    {
      "cell_type": "markdown",
      "source": [
        "Es de notar que si bien el producto Mesa de noche es el más vendido no representa mucho en cuanto a ingresos, sin embargo se observa que el Celular ABXY perteneciente a la categoría de los electrónicos es de lo menos vendido, pero representa una buena cantidad de ingresos para las tiendas"
      ],
      "metadata": {
        "id": "tLtoz5KDx0Gf"
      }
    },
    {
      "cell_type": "code",
      "source": [
        "producto_buscado = \"Mesa de noche\"\n",
        "\n",
        "# Filtra las filas donde el producto esté incluido en la columna 'Producto'\n",
        "resultado = df_total[df_total[\"Producto\"].str.contains(producto_buscado, case=False, na=False)]\n",
        "\n",
        "# Mostrar solo la categoría o las categorías únicas\n",
        "categorias = resultado[\"Categoría del Producto\"].unique()\n",
        "\n",
        "print(f\"El producto '{producto_buscado}' pertenece a la(s) categoría(s): {categorias}\")"
      ],
      "metadata": {
        "colab": {
          "base_uri": "https://localhost:8080/"
        },
        "id": "D8ylaDaJ6CgW",
        "outputId": "ff8e727f-d766-4dbe-a2ed-53c497ead470"
      },
      "execution_count": 35,
      "outputs": [
        {
          "output_type": "stream",
          "name": "stdout",
          "text": [
            "El producto 'Mesa de noche' pertenece a la(s) categoría(s): ['Muebles']\n"
          ]
        }
      ]
    },
    {
      "cell_type": "code",
      "source": [],
      "metadata": {
        "id": "0Z5bKwKgqmSv"
      },
      "execution_count": null,
      "outputs": []
    },
    {
      "cell_type": "markdown",
      "source": [
        "# 3. Calificación promedio de la tienda\n"
      ],
      "metadata": {
        "id": "Rq6tU_xSY3jk"
      }
    },
    {
      "cell_type": "code",
      "source": [
        "promedio_cali= df_total.groupby('Sucursal')['Calificación'].mean().reset_index()\n",
        "print(\"*\" * 50)\n",
        "print(f\"{'Sucursal':<15} {'Promedio Calificación':>30}\")\n",
        "print(\"*\" * 50)\n",
        "\n",
        "for index, row in promedio_cali.iterrows():\n",
        "    print(f\"{row['Sucursal']:<15} {row['Calificación']:>30.2f}\")\n",
        "\n",
        "print(\"*\" * 50)"
      ],
      "metadata": {
        "colab": {
          "base_uri": "https://localhost:8080/"
        },
        "id": "zTHriDx1ZvZy",
        "outputId": "e88606a9-5be7-47b5-f9cd-bc145eb3f44f"
      },
      "execution_count": 41,
      "outputs": [
        {
          "output_type": "stream",
          "name": "stdout",
          "text": [
            "**************************************************\n",
            "Sucursal                 Promedio Calificación\n",
            "**************************************************\n",
            "Sucursal 1                                3.98\n",
            "Sucursal 2                                4.04\n",
            "Sucursal 3                                4.05\n",
            "Sucursal 4                                4.00\n",
            "**************************************************\n"
          ]
        }
      ]
    },
    {
      "cell_type": "markdown",
      "source": [
        "A pesar de que la Sucursal 4 tienes menos facturación que el resto, por lo menos tiene mejor calificación según los clientes que la Sucursal 1"
      ],
      "metadata": {
        "id": "E4uP9EjlYGs4"
      }
    },
    {
      "cell_type": "code",
      "source": [],
      "metadata": {
        "id": "I0KkjPoTY88F"
      },
      "execution_count": null,
      "outputs": []
    },
    {
      "cell_type": "markdown",
      "source": [
        "# 4. Productos más y menos vendidos"
      ],
      "metadata": {
        "id": "DmNp1KPBZCm-"
      }
    },
    {
      "cell_type": "code",
      "source": [
        "from collections import defaultdict, Counter\n",
        "\n",
        "\n",
        "productos_expandido = []\n",
        "\n",
        "for _, row in df_total.iterrows():\n",
        "    productos = [p.strip() for p in row['Producto'].split(',')]\n",
        "    precio_unitario = row['Precio'] / len(productos)\n",
        "\n",
        "    for producto in productos:\n",
        "        productos_expandido.append((producto, precio_unitario))\n",
        "\n",
        "\n",
        "conteo = Counter()\n",
        "monto_por_producto = defaultdict(float)\n",
        "\n",
        "for producto, monto in productos_expandido:\n",
        "    conteo[producto] += 1\n",
        "    monto_por_producto[producto] += monto\n",
        "\n",
        "productos_totales = []\n",
        "for producto in conteo:\n",
        "    cantidad = conteo[producto]\n",
        "    monto_mm = monto_por_producto[producto] / 1_000_000\n",
        "    productos_totales.append((producto, cantidad, monto_mm))\n",
        "\n",
        "# Ordenar por cantidad vendida\n",
        "top_ventas = sorted(productos_totales, key=lambda x: x[1], reverse=True)[:10]\n",
        "bottom_ventas = sorted(productos_totales, key=lambda x: x[1])[:10]\n",
        "\n",
        "\n",
        "print(\"*\" * 120)\n",
        "print(f\"{'Top 10 Más Vendidos (por cantidad)':<55}     {'Top 10 Menos Vendidos (por cantidad)':<50}\")\n",
        "print(f\"{'Producto':<25} {'Cantidad':>8} {'MM$':>12}     {'Producto':<30} {'Cantidad':>8} {'MM$':>15}\")\n",
        "print(\"*\" * 120)\n",
        "\n",
        "for i in range(10):\n",
        "    prod_top = top_ventas[i]\n",
        "    prod_bot = bottom_ventas[i]\n",
        "\n",
        "    print(f\"{prod_top[0]:<25} {prod_top[1]:>8} {prod_top[2]:>12.2f}     \"\n",
        "          f\"{prod_bot[0]:<30} {prod_bot[1]:>8} {prod_bot[2]:>15.2f}\")\n",
        "\n",
        "print(\"*\" * 120)\n",
        "\n",
        "\n"
      ],
      "metadata": {
        "id": "qoyjqijQZHfF",
        "colab": {
          "base_uri": "https://localhost:8080/"
        },
        "outputId": "a6f3e50a-d014-46dc-838c-2dd21033acd2"
      },
      "execution_count": 61,
      "outputs": [
        {
          "output_type": "stream",
          "name": "stdout",
          "text": [
            "************************************************************************************************************************\n",
            "Top 10 Más Vendidos (por cantidad)                          Top 10 Menos Vendidos (por cantidad)              \n",
            "Producto                  Cantidad          MM$     Producto                       Cantidad             MM$\n",
            "************************************************************************************************************************\n",
            "Mesa de noche                  210        58.42     Celular ABXY                        157          157.91\n",
            "Microondas                     206       115.70     Auriculares con micrófono           158           22.75\n",
            "Carrito de control remoto      206        14.77     Mochila                             163           16.07\n",
            "Batería                        203       147.81     Guitarra eléctrica                  165          129.40\n",
            "Cama king                      201       135.78     Ciencia de datos con Python         166            9.04\n",
            "Set de ollas                   200        30.51     Asistente virtual                   167           34.47\n",
            "Secadora de ropa               200       210.24     Sillón                              168           40.80\n",
            "Modelado predictivo            200        12.62     Set de vasos                        169            5.58\n",
            "Bloques de construcción        199         6.80     Olla de presión                     172           12.93\n",
            "Cama box                       199       104.10     Smartwatch                          172           29.93\n",
            "************************************************************************************************************************\n"
          ]
        }
      ]
    },
    {
      "cell_type": "markdown",
      "source": [
        "Es de notar que si bien el producto Mesa de noche es el más vendido no representa mucho en cuanto a ingresos, sin embargo se observa que el Celular ABXY perteneciente a la categoría de los electrónicos es de lo menos vendido, pero representa una buena cantidad de ingresos para las tiendas\n"
      ],
      "metadata": {
        "id": "lhP_QqcYXzNL"
      }
    },
    {
      "cell_type": "code",
      "source": [
        "producto_buscado = \"Batería\"\n",
        "\n",
        "resultado = df_total[df_total[\"Producto\"].str.contains(producto_buscado, case=False, na=False)]\n",
        "\n",
        "categorias = resultado[\"Categoría del Producto\"].unique()\n",
        "\n",
        "print(f\"El producto '{producto_buscado}' pertenece a la(s) categoría(s): {categorias}\")"
      ],
      "metadata": {
        "id": "0Sw3sd4IZIGW",
        "colab": {
          "base_uri": "https://localhost:8080/"
        },
        "outputId": "015e89c9-dd03-445e-8aa9-471c4e16fbe9"
      },
      "execution_count": 40,
      "outputs": [
        {
          "output_type": "stream",
          "name": "stdout",
          "text": [
            "El producto 'Batería' pertenece a la(s) categoría(s): ['Instrumentos musicales']\n"
          ]
        }
      ]
    },
    {
      "cell_type": "markdown",
      "source": [
        "# 5. Envío promedio por tienda"
      ],
      "metadata": {
        "id": "Fl0cGi3bZKqU"
      }
    },
    {
      "cell_type": "code",
      "source": [
        "promedioenvio = df_total.groupby('Sucursal')['Costo de envío'].mean().reset_index()\n",
        "#promedioenvio['Costo de envío'] = promedioenvio['Costo de envío'].round(2)\n",
        "\n",
        "print(\"*\" * 50)\n",
        "print(f\"{'Sucursal':<15} {'Promedio Costo de Envío':>30}\")\n",
        "print(\"*\" * 50)\n",
        "\n",
        "for index, row in promedioenvio.iterrows():\n",
        "    print(f\"{row['Sucursal']:<15} {row['Costo de envío']:>30.2f}\")\n",
        "\n",
        "print(\"*\" * 50)"
      ],
      "metadata": {
        "colab": {
          "base_uri": "https://localhost:8080/"
        },
        "id": "AHtQtcGmY7_M",
        "outputId": "7031d797-86af-4145-8f0b-fc79a0d2c87d"
      },
      "execution_count": null,
      "outputs": [
        {
          "output_type": "stream",
          "name": "stdout",
          "text": [
            "**************************************************\n",
            "Sucursal               Promedio Costo de Envío\n",
            "**************************************************\n",
            "Sucursal 1                            26018.61\n",
            "Sucursal 2                            25216.24\n",
            "Sucursal 3                            24805.68\n",
            "Sucursal 4                            23459.46\n",
            "**************************************************\n"
          ]
        }
      ]
    },
    {
      "cell_type": "markdown",
      "source": [
        "Puede observarse que el promedio de envío más bajo lo posee la Sucursal 4, sin embargo el costo de envío no es un indicador de mucha importancia, debido a que si el envío es alto es porque la sucursal tiene buena facturacón, no debe observarse como negativo. Antes de emitir una opinión se procederá a realizar un análisis con un indicador al cual llamé IRE (Indicador de Rentabilidad y Eficiencia y se basa en tres aspectos fundamentales, su fórnula es IRE = (Promedio de facturación - Costo Promedio de envío)*(Promedio de calificación)\n"
      ],
      "metadata": {
        "id": "qwkzJJbbbdSS"
      }
    },
    {
      "cell_type": "code",
      "source": [
        "totales = df_total.groupby('Sucursal').agg(\n",
        "    factura=(\"Precio\", 'mean'),\n",
        "    Costenv=(\"Costo de envío\", 'mean'),\n",
        "    Calif=(\"Calificación\", 'mean')\n",
        ").reset_index()\n",
        "\n",
        "# Calcular IRE\n",
        "totales[\"IRE\"] = (totales[\"factura\"] - totales[\"Costenv\"]) * totales[\"Calif\"]\n",
        "\n",
        "totales[\"IRE\"] = totales[\"IRE\"].round(2)\n",
        "\n",
        "print(\"*\" * 35)\n",
        "print(f\"{'Sucursal':<15} {'IRE':>10}\")\n",
        "print(\"*\" * 35)\n",
        "\n",
        "for _, row in totales.iterrows():\n",
        "    print(f\"{row['Sucursal']:<15}  {row['IRE']:>10.2f}\")\n",
        "\n",
        "print(\"*\" * 35)\n"
      ],
      "metadata": {
        "colab": {
          "base_uri": "https://localhost:8080/"
        },
        "id": "PVhaBqV6cFuB",
        "outputId": "c2cfd56a-175e-4c37-9ab4-7640425565a6"
      },
      "execution_count": 58,
      "outputs": [
        {
          "output_type": "stream",
          "name": "stdout",
          "text": [
            "***********************************\n",
            "Sucursal               IRE\n",
            "***********************************\n",
            "Sucursal 1       1836629.20\n",
            "Sucursal 2       1808757.35\n",
            "Sucursal 3       1783911.22\n",
            "Sucursal 4       1665845.70\n",
            "***********************************\n"
          ]
        }
      ]
    },
    {
      "cell_type": "code",
      "source": [
        "ire_df = df_total.groupby('Sucursal').agg(\n",
        "    factura=('Precio', 'mean'),\n",
        "    costenv=('Costo de envío', 'mean'),\n",
        "    calif=('Calificación', 'mean')\n",
        ").reset_index()\n",
        "\n",
        "ire_df['IRE'] = (ire_df['factura'] - ire_df['costenv']) * ire_df['calif']\n",
        "\n",
        "ire_df['Porcentaje'] = (ire_df['IRE'] / ire_df['IRE'].sum()) * 100\n",
        "import matplotlib.pyplot as plt\n",
        "\n",
        "plt.figure(figsize=(8, 8))\n",
        "plt.pie(ire_df['Porcentaje'], labels=ire_df['Sucursal'], autopct='%1.1f%%', startangle=140)\n",
        "\n",
        "plt.title('Porcentaje de Aporte de IRE por Sucursal')\n",
        "plt.axis('equal')\n",
        "plt.tight_layout()\n",
        "plt.show()"
      ],
      "metadata": {
        "colab": {
          "base_uri": "https://localhost:8080/",
          "height": 801
        },
        "id": "oVIUpGAerml8",
        "outputId": "0b05be4d-d585-4ccb-ff70-1fdc7d194f22"
      },
      "execution_count": 60,
      "outputs": [
        {
          "output_type": "display_data",
          "data": {
            "text/plain": [
              "<Figure size 800x800 with 1 Axes>"
            ],
            "image/png": "[encoded data removed]"
          },
          "metadata": {}
        }
      ]
    },
    {
      "cell_type": "markdown",
      "source": [
        "**CONCLUSIÓN**"
      ],
      "metadata": {
        "id": "w96sAvQliWXe"
      }
    },
    {
      "cell_type": "markdown",
      "source": [
        "Luego de realizar un análisis detallado sobre las cuatro sucursales, considerando los tres aspectos fundamentales previamente definidos: facturación, costo de envío y calificación de los clientes, y aplicando la fórmula del Indicador de Rentabilidad y Eficiencia (IRE), se evidenciaron patrones consistentes en los resultados obtenidos.\n",
        "\n",
        "A través de las distintas estrategias de evaluación empleadas comparativas directas y análisis ponderado se identificó de forma reiterada que la Sucursal Nro. 4 presenta el menor desempeño en relación con las demás. Esta sucursal no solo mostró una facturación más baja, sino que también reflejó menores niveles de eficiencia operativa y una calificación de clientes inferior al promedio.\n",
        "\n",
        "En consecuencia, y tomando en cuenta tanto los datos cuantitativos como el criterio estratégico, se recomienda al Sr. Juán considerar la venta de la Sucursal Nro. 4, ya que representa la unidad menos rentable y eficiente dentro del portafolio actual de tiendas."
      ],
      "metadata": {
        "id": "xAGPxjMhima8"
      }
    }
  ]
}